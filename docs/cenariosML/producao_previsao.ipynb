{
 "cells": [
  {
   "cell_type": "code",
   "execution_count": 73,
   "id": "db7058c3",
   "metadata": {},
   "outputs": [],
   "source": [
    "# Importação de Bibliotecas e Leitura Arquivo CSV\n",
    "import pandas as pd\n",
    "df = pd.read_csv('Producao.csv',sep=';')"
   ]
  },
  {
   "cell_type": "code",
   "execution_count": null,
   "id": "c6f1c8c3",
   "metadata": {},
   "outputs": [
    {
     "name": "stdout",
     "output_type": "stream",
     "text": [
      "VINHO DE MESA\n"
     ]
    },
    {
     "data": {
      "text/html": [
       "<div>\n",
       "<style scoped>\n",
       "    .dataframe tbody tr th:only-of-type {\n",
       "        vertical-align: middle;\n",
       "    }\n",
       "\n",
       "    .dataframe tbody tr th {\n",
       "        vertical-align: top;\n",
       "    }\n",
       "\n",
       "    .dataframe thead th {\n",
       "        text-align: right;\n",
       "    }\n",
       "</style>\n",
       "<table border=\"1\" class=\"dataframe\">\n",
       "  <thead>\n",
       "    <tr style=\"text-align: right;\">\n",
       "      <th></th>\n",
       "      <th>Ano</th>\n",
       "      <th>Quantidade (L)</th>\n",
       "    </tr>\n",
       "  </thead>\n",
       "  <tbody>\n",
       "    <tr>\n",
       "      <th>4</th>\n",
       "      <td>1971</td>\n",
       "      <td>154264651</td>\n",
       "    </tr>\n",
       "    <tr>\n",
       "      <th>7</th>\n",
       "      <td>1974</td>\n",
       "      <td>193875345</td>\n",
       "    </tr>\n",
       "    <tr>\n",
       "      <th>10</th>\n",
       "      <td>1977</td>\n",
       "      <td>195359778</td>\n",
       "    </tr>\n",
       "    <tr>\n",
       "      <th>13</th>\n",
       "      <td>1980</td>\n",
       "      <td>130308185</td>\n",
       "    </tr>\n",
       "    <tr>\n",
       "      <th>16</th>\n",
       "      <td>1983</td>\n",
       "      <td>120261544</td>\n",
       "    </tr>\n",
       "    <tr>\n",
       "      <th>19</th>\n",
       "      <td>1986</td>\n",
       "      <td>157711522</td>\n",
       "    </tr>\n",
       "    <tr>\n",
       "      <th>22</th>\n",
       "      <td>1989</td>\n",
       "      <td>181801961</td>\n",
       "    </tr>\n",
       "    <tr>\n",
       "      <th>25</th>\n",
       "      <td>1992</td>\n",
       "      <td>163248419</td>\n",
       "    </tr>\n",
       "    <tr>\n",
       "      <th>28</th>\n",
       "      <td>1995</td>\n",
       "      <td>214788304</td>\n",
       "    </tr>\n",
       "    <tr>\n",
       "      <th>31</th>\n",
       "      <td>1998</td>\n",
       "      <td>150814943</td>\n",
       "    </tr>\n",
       "    <tr>\n",
       "      <th>34</th>\n",
       "      <td>2001</td>\n",
       "      <td>228932458</td>\n",
       "    </tr>\n",
       "    <tr>\n",
       "      <th>37</th>\n",
       "      <td>2004</td>\n",
       "      <td>313962284</td>\n",
       "    </tr>\n",
       "    <tr>\n",
       "      <th>40</th>\n",
       "      <td>2007</td>\n",
       "      <td>275287908</td>\n",
       "    </tr>\n",
       "    <tr>\n",
       "      <th>43</th>\n",
       "      <td>2010</td>\n",
       "      <td>195267980</td>\n",
       "    </tr>\n",
       "    <tr>\n",
       "      <th>46</th>\n",
       "      <td>2013</td>\n",
       "      <td>196904222</td>\n",
       "    </tr>\n",
       "    <tr>\n",
       "      <th>49</th>\n",
       "      <td>2016</td>\n",
       "      <td>86319015</td>\n",
       "    </tr>\n",
       "    <tr>\n",
       "      <th>52</th>\n",
       "      <td>2019</td>\n",
       "      <td>144629737</td>\n",
       "    </tr>\n",
       "    <tr>\n",
       "      <th>55</th>\n",
       "      <td>2022</td>\n",
       "      <td>195031611</td>\n",
       "    </tr>\n",
       "  </tbody>\n",
       "</table>\n",
       "</div>"
      ],
      "text/plain": [
       "     Ano Quantidade (L)\n",
       "4   1971      154264651\n",
       "7   1974      193875345\n",
       "10  1977      195359778\n",
       "13  1980      130308185\n",
       "16  1983      120261544\n",
       "19  1986      157711522\n",
       "22  1989      181801961\n",
       "25  1992      163248419\n",
       "28  1995      214788304\n",
       "31  1998      150814943\n",
       "34  2001      228932458\n",
       "37  2004      313962284\n",
       "40  2007      275287908\n",
       "43  2010      195267980\n",
       "46  2013      196904222\n",
       "49  2016       86319015\n",
       "52  2019      144629737\n",
       "55  2022      195031611"
      ]
     },
     "execution_count": 67,
     "metadata": {},
     "output_type": "execute_result"
    }
   ],
   "source": [
    "# Tratamento dos dados lidos: Primeira linha do CSV tem histórico de um Produto; Transposição dos dados\n",
    "df = df2 = df.iloc[[0]]  # Pega a primeira linha como DataFrame\n",
    "df3 = df2.T # Transpõe (anos viram índice, produto vira coluna)\n",
    "df3 = df3.reset_index()\n",
    "df3.columns = ['Ano','Quantidade (L)']\n",
    "df4 = df3.iloc[2:]\n",
    "produto = df.iloc[0, 1] # Vinho de Mesa\n",
    "print(produto)\n",
    "df5 = df4.iloc[1:]\n",
    "df5 = df5[df5['Ano'].astype(int) % 3 == 0] # Intervalo de 3 anos (melhorar exibição)\n",
    "df5"
   ]
  },
  {
   "cell_type": "code",
   "execution_count": null,
   "id": "834b0465",
   "metadata": {},
   "outputs": [],
   "source": [
    "# Importação de Bibliotecas de ML e Previsão com Linear Regression\n",
    "from sklearn.linear_model import LinearRegression\n",
    "import numpy as np\n",
    "import matplotlib.pyplot as plt"
   ]
  },
  {
   "cell_type": "code",
   "execution_count": null,
   "id": "281d71f1",
   "metadata": {},
   "outputs": [],
   "source": [
    "# Preparação dos dados para o modelo ML\n",
    "X = df5['Ano'].values.reshape(-1, 1)           # variável independente (Ano)\n",
    "y = df5['Quantidade (L)'].values"
   ]
  },
  {
   "cell_type": "code",
   "execution_count": 74,
   "id": "75117f9e",
   "metadata": {},
   "outputs": [],
   "source": [
    "# Criar e ajustar o modelo\n",
    "model = LinearRegression()\n",
    "model.fit(X, y)\n",
    "\n",
    "# Prever para os próximos anos, por exemplo 2024 a 2031\n",
    "anos_futuros = np.arange(2024, 2031).reshape(-1, 1)\n",
    "previsoes = model.predict(anos_futuros)"
   ]
  },
  {
   "cell_type": "code",
   "execution_count": 75,
   "id": "a3791230",
   "metadata": {},
   "outputs": [
    {
     "name": "stdout",
     "output_type": "stream",
     "text": [
      "Ano 2024: previsão 198035280 litros\n",
      "Ano 2025: previsão 198572381 litros\n",
      "Ano 2026: previsão 199109483 litros\n",
      "Ano 2027: previsão 199646584 litros\n",
      "Ano 2028: previsão 200183685 litros\n",
      "Ano 2029: previsão 200720787 litros\n",
      "Ano 2030: previsão 201257888 litros\n"
     ]
    }
   ],
   "source": [
    "# Mostrar resultados\n",
    "for ano, pred in zip(anos_futuros.flatten(), previsoes):\n",
    "    print(f'Ano {ano}: previsão {int(pred)} litros')"
   ]
  },
  {
   "cell_type": "code",
   "execution_count": 78,
   "id": "dc6f0f96",
   "metadata": {},
   "outputs": [
    {
     "data": {
      "image/png": "[encoded data removed]",
      "text/plain": [
       "<Figure size 640x480 with 1 Axes>"
      ]
     },
     "metadata": {},
     "output_type": "display_data"
    }
   ],
   "source": [
    "import matplotlib.pyplot as plt\n",
    "\n",
    "# Plot dos dados históricos\n",
    "plt.scatter(df5['Ano'], df5['Quantidade (L)'], color='blue', label='Realizado')\n",
    "\n",
    "# Plot da linha de regressão (tanto dados históricos quanto previsões)\n",
    "import numpy as np\n",
    "X_all = np.concatenate((df5['Ano'].values.astype(str), anos_futuros.flatten()))\n",
    "y_all = np.concatenate((df5['Quantidade (L)'].values, previsoes))\n",
    "\n",
    "# Ordena os valores para o gráfico ficar certinho\n",
    "# sorted_indices = np.argsort(X_all)\n",
    "#X_all_sorted = X_all[sorted_indices]\n",
    "#y_all_sorted = y_all[sorted_indices]\n",
    "\n",
    "plt.plot(X_all, y_all, color='red', label='Previsão')\n",
    "\n",
    "plt.xlabel('Ano')\n",
    "plt.ylabel('Quantidade (L)')\n",
    "plt.xticks(rotation=90)\n",
    "plt.title('Previsão de Produção: '+produto)\n",
    "plt.legend()\n",
    "plt.grid(True)\n",
    "plt.show()"
   ]
  }
 ],
 "metadata": {
  "kernelspec": {
   "display_name": "Python 3",
   "language": "python",
   "name": "python3"
  },
  "language_info": {
   "codemirror_mode": {
    "name": "ipython",
    "version": 3
   },
   "file_extension": ".py",
   "mimetype": "text/x-python",
   "name": "python",
   "nbconvert_exporter": "python",
   "pygments_lexer": "ipython3",
   "version": "3.10.0"
  }
 },
 "nbformat": 4,
 "nbformat_minor": 5
}
